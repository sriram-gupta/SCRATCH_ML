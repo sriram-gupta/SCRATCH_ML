{
 "cells": [
  {
   "cell_type": "markdown",
   "metadata": {},
   "source": [
    "# Basic Knowledge and Portals"
   ]
  },
  {
   "cell_type": "markdown",
   "metadata": {},
   "source": [
    "To get started in Machine Learning , you should know 2+2 = 4 and 2 +x = 4 , implies x =2 and here x is a placeholder . In programming also known as variable. This much knowledge is enough for anyone to get started with machine learning. \n",
    "\n",
    "Rest Other requirements like knowing Linear Algebra , Python , Calculus All this is just 2 + x = 4 only .  :D \n",
    "\n",
    "We will be learning and exploring on our way and understand :  Following are the questions which we will be asking ourselves to realize we already know it , it's just people call it with different name.\n",
    "\n",
    "What we want to do ? \n",
    "Why we want to do it ? \n",
    "If you are the only person who is inventing this first time , how you would have done it. \n",
    "what do other people call you method of solving it . \n",
    "\n",
    "Finally , Does there exist any better solution for doing this which will be an abstraction black box . \n",
    " "
   ]
  },
  {
   "cell_type": "code",
   "execution_count": 3,
   "metadata": {},
   "outputs": [
    {
     "name": "stdout",
     "output_type": "stream",
     "text": [
      "  _______________________________________\n",
      "| Let's get started with MACHINE-LEARNING |\n",
      "  =======================================\n",
      "                                       \\\n",
      "                                        \\\n",
      "                                          ^__^\n",
      "                                          (oo)\\_______\n",
      "                                          (__)\\       )\\/\\\n",
      "                                              ||----w |\n",
      "                                              ||     ||\n"
     ]
    }
   ],
   "source": [
    "import cowsay\n",
    "cowsay.cow(\"Let's get started with MACHINE-LEARNING\")"
   ]
  },
  {
   "cell_type": "code",
   "execution_count": null,
   "metadata": {},
   "outputs": [],
   "source": [
    "# kaggel is a platform which provide , notebook,  ML Models , Dataset etc\n",
    "# We will also be exploring pytorch FrameWork to work with NN "
   ]
  }
 ],
 "metadata": {
  "kernelspec": {
   "display_name": "Python 3",
   "language": "python",
   "name": "python3"
  },
  "language_info": {
   "codemirror_mode": {
    "name": "ipython",
    "version": 3
   },
   "file_extension": ".py",
   "mimetype": "text/x-python",
   "name": "python",
   "nbconvert_exporter": "python",
   "pygments_lexer": "ipython3",
   "version": "3.9.6"
  },
  "orig_nbformat": 4
 },
 "nbformat": 4,
 "nbformat_minor": 2
}
