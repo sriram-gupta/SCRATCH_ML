{
 "cells": [
  {
   "cell_type": "code",
   "execution_count": 3,
   "metadata": {},
   "outputs": [],
   "source": [
    "import numpy as np\n",
    "from tabulate import tabulate\n"
   ]
  },
  {
   "cell_type": "markdown",
   "metadata": {},
   "source": [
    "# NUMPY \n",
    " https://numpy.org/doc/stable/user/whatisnumpy.html\n",
    "\n",
    "NumPy’s array class is called ndarray. It is also known by the alias array. Note that numpy.array is not the same as the \n",
    "Standard Python Library class array.array, which only handles one-dimensional arrays and offers less functionality. \n",
    "The more important attributes of an ndarray object are:"
   ]
  },
  {
   "cell_type": "code",
   "execution_count": 4,
   "metadata": {},
   "outputs": [
    {
     "name": "stdout",
     "output_type": "stream",
     "text": [
      "<class 'numpy.ndarray'>\n",
      "2\n"
     ]
    }
   ],
   "source": [
    "a = np.ones((1,1))\n",
    "print(type(a))\n",
    "print(a.ndim)"
   ]
  },
  {
   "cell_type": "markdown",
   "metadata": {},
   "source": [
    "# WHAT IS MATRIX AND ND-ARRAY ( N-DIMENSIONAL ARRAY )\n",
    "\n",
    "Before moving forward , we should have an understanding what is matrix and n-dimensional array. \n",
    "\n",
    "Matrix is nothing but a way of representing the data points  and why do we do it , to use the various properties of Linear Algebra / Matrix properties to do calculation easily / easy to write and represent. \n",
    "\n",
    "ex: Let's say I have the scores of all students in a class for a test , data could look like [12,20,25,18]\n",
    "This is nothing but an array / a vector / 1 dimensional array. \n",
    "\n",
    "Now For each student we have scores for two subjects so the score will be in tuple ex : [ (12,20) , (20,13) , (25,19) , (18,21) ]\n",
    "Another way of representing this could be [ [12,20] , [20,13] , [25,19] , [18,21]  ]\n",
    "\n",
    "<!-- Table 1 -->\n",
    "<table>\n",
    "  <tr>\n",
    "    <th>12</th>\n",
    "    <th>20</th>\n",
    "    <th>25</th>\n",
    "    <th>18</th>\n",
    "  </tr>\n",
    "  <tr>\n",
    "    <td>20</td>\n",
    "    <td>13</td>\n",
    "    <td>19</td>\n",
    "    <td>21</td>\n",
    "  </tr>\n",
    "</table>\n",
    "\n",
    "<!-- Table 2 -->\n",
    "<br>\n",
    "\n",
    "<table>\n",
    "  <tr>\n",
    "    <td>12</td>\n",
    "    <td>20</td>\n",
    "  </tr>\n",
    "  <tr>\n",
    "    <td>20</td>\n",
    "    <td>13</td>\n",
    "  </tr>\n",
    "  <tr>\n",
    "    <td>25</td>\n",
    "    <td>19</td>\n",
    "  </tr>\n",
    "  <tr>\n",
    "    <td>18</td>\n",
    "    <td>21</td>\n",
    "  </tr>\n",
    "</table>\n",
    "\n",
    "\n",
    "4 Student 2 Subjects =>  [4 2] or [2 4] are two different ways of representing the same data . \n",
    "\n",
    "\n",
    "So the confusion could arise what is the write way , actually both are correct . Its just based on the operation you want to perform on these data , you will have to either use transpose to get the right result. \n",
    "\n",
    "\n",
    "\n",
    "In above case  data is in 2D => 2D array \n",
    "\n",
    "\n",
    "\n",
    "Now think of three subjects so each student will have triplet ( 12, 19 , 22 ) => [ [12, 19 , 22] , [22, 10 , 19] ]\n",
    "\n",
    "\n",
    "\n"
   ]
  },
  {
   "cell_type": "code",
   "execution_count": null,
   "metadata": {},
   "outputs": [],
   "source": [
    "\n"
   ]
  }
 ],
 "metadata": {
  "kernelspec": {
   "display_name": "Python 3",
   "language": "python",
   "name": "python3"
  },
  "language_info": {
   "codemirror_mode": {
    "name": "ipython",
    "version": 3
   },
   "file_extension": ".py",
   "mimetype": "text/x-python",
   "name": "python",
   "nbconvert_exporter": "python",
   "pygments_lexer": "ipython3",
   "version": "3.9.6"
  },
  "orig_nbformat": 4
 },
 "nbformat": 4,
 "nbformat_minor": 2
}
