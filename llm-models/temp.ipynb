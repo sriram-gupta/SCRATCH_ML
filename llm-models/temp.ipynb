{
 "cells": [
  {
   "cell_type": "code",
   "execution_count": 1,
   "metadata": {},
   "outputs": [],
   "source": [
    "import numpy as np\n",
    "import pandas as pd"
   ]
  },
  {
   "cell_type": "code",
   "execution_count": 17,
   "metadata": {},
   "outputs": [
    {
     "name": "stdout",
     "output_type": "stream",
     "text": [
      "shape of input : (3, 10)\n"
     ]
    }
   ],
   "source": [
    "input = np.random.random((3,10))\n",
    "print(f\"shape of input : {input.shape}\")\n",
    "[ row , column] = input.shape\n",
    "# row\n",
    "# column"
   ]
  },
  {
   "cell_type": "code",
   "execution_count": 18,
   "metadata": {},
   "outputs": [
    {
     "data": {
      "text/plain": [
       "array([[0.2909535 , 0.39661276, 0.71951256, 0.45063354, 0.49487895,\n",
       "        0.052418  , 0.93794137, 0.20098265, 0.75871109, 0.49653295],\n",
       "       [0.39011825, 0.59080985, 0.83940213, 0.14539357, 0.91161089,\n",
       "        0.35717575, 0.23024512, 0.62672858, 0.63431337, 0.67463805],\n",
       "       [0.46813799, 0.92488638, 0.96018808, 0.04936579, 0.02550428,\n",
       "        0.52411226, 0.08862384, 0.56353344, 0.39934746, 0.09000198]])"
      ]
     },
     "execution_count": 18,
     "metadata": {},
     "output_type": "execute_result"
    }
   ],
   "source": [
    "input"
   ]
  },
  {
   "cell_type": "code",
   "execution_count": 21,
   "metadata": {},
   "outputs": [
    {
     "data": {
      "text/plain": [
       "array([[1, 1, 1, 1, 1, 1, 1, 1, 1, 1]])"
      ]
     },
     "execution_count": 21,
     "metadata": {},
     "output_type": "execute_result"
    }
   ],
   "source": [
    "oneD = np.ones((1,10), dtype='int')\n",
    "oneD"
   ]
  },
  {
   "cell_type": "code",
   "execution_count": 28,
   "metadata": {},
   "outputs": [
    {
     "data": {
      "text/plain": [
       "array([[ True,  True,  True,  True,  True,  True,  True,  True,  True,\n",
       "         True],\n",
       "       [ True,  True,  True,  True,  True,  True,  True,  True,  True,\n",
       "         True],\n",
       "       [ True,  True,  True,  True,  True,  True,  True,  True,  True,\n",
       "         True],\n",
       "       [ True,  True,  True,  True,  True,  True,  True,  True,  True,\n",
       "         True],\n",
       "       [ True,  True,  True,  True,  True,  True,  True,  True,  True,\n",
       "         True],\n",
       "       [ True,  True,  True,  True,  True,  True,  True,  True,  True,\n",
       "         True],\n",
       "       [ True,  True,  True,  True,  True,  True,  True,  True,  True,\n",
       "         True],\n",
       "       [ True,  True,  True,  True,  True,  True,  True,  True,  True,\n",
       "         True],\n",
       "       [ True,  True,  True,  True,  True,  True,  True,  True,  True,\n",
       "         True],\n",
       "       [ True,  True,  True,  True,  True,  True,  True,  True,  True,\n",
       "         True]])"
      ]
     },
     "execution_count": 28,
     "metadata": {},
     "output_type": "execute_result"
    }
   ],
   "source": [
    "A = np.random.random((10,3)) # A -> (10x3)\n",
    "B = np.random.random((3,10)) # B -> (3x10)\n",
    "\n",
    "np.dot(A,B) == A @ B\n",
    "# In context of matrices both achieves rhe same results "
   ]
  },
  {
   "cell_type": "code",
   "execution_count": 52,
   "metadata": {},
   "outputs": [
    {
     "name": "stdout",
     "output_type": "stream",
     "text": [
      "inputVector : [[0.92628275]\n",
      " [0.59172401]\n",
      " [0.09569885]]\n",
      "FirstLayerWights : [[1. 1. 1.]\n",
      " [1. 1. 1.]\n",
      " [1. 1. 1.]\n",
      " [1. 1. 1.]]\n",
      "FirstLayerSimple : [[1.61370561]\n",
      " [1.61370561]\n",
      " [1.61370561]\n",
      " [1.61370561]]\n",
      "FirstLayerAfterActivation : [[0.83392523]\n",
      " [0.83392523]\n",
      " [0.83392523]\n",
      " [0.83392523]]\n",
      "expectedOutput : [[0.22666437]\n",
      " [0.70136489]\n",
      " [0.44579536]\n",
      " [0.82130741]]\n",
      "Error : [[0.53714198]]\n",
      "grad :  [[0.56249525 0.35933083 0.05811416]\n",
      " [0.12278835 0.07843913 0.01268587]\n",
      " [0.359518   0.22966576 0.03714358]\n",
      " [0.01168766 0.00746626 0.00120751]]\n",
      "FirstLayerWightsUpdated : [[0.99994375 0.99996407 0.99999419]\n",
      " [0.99998772 0.99999216 0.99999873]\n",
      " [0.99996405 0.99997703 0.99999629]\n",
      " [0.99999883 0.99999925 0.99999988]]\n"
     ]
    }
   ],
   "source": [
    "# Input vector looks lik 3*1 [Input : I]\n",
    "inputVector = np.random.random((3,1)) \n",
    "inputVector.shape\n",
    "print(f\"inputVector : {inputVector}\")\n",
    "\n",
    "# First Layer will have 4 nodes\n",
    "FirstLayerWights = np.ones((4,3))\n",
    "print(f\"FirstLayerWights : {FirstLayerWights}\")\n",
    "\n",
    "# y = W @ I\n",
    "FirstLayerSimple = FirstLayerWights @ inputVector \n",
    "print(f\"FirstLayerSimple : {FirstLayerSimple}\")\n",
    "\n",
    "\n",
    "def sigmoid(x):\n",
    "    \"\"\"_summary_\n",
    "    It calculates the sigmoid of anything\n",
    "    \"\"\"\n",
    "    return 1 / ( 1 + np.exp(-x))\n",
    "\n",
    "\n",
    "FirstLayerAfterActivation = sigmoid(FirstLayerSimple)\n",
    "print(f\"FirstLayerAfterActivation : {FirstLayerAfterActivation}\")\n",
    "\n",
    "\n",
    "expectedOutput = np.random.random((4,1))\n",
    "print(f\"expectedOutput : {expectedOutput}\")\n",
    "\n",
    "\n",
    "# Error Calculation  E = (Ypred -Yactual)^2 / N\n",
    "diff =  FirstLayerAfterActivation - expectedOutput\n",
    "Error = diff.T @ diff  \n",
    "print(f\"Error : {Error}\")\n",
    "\n",
    "# Gradient Descent \n",
    "grad =  ( FirstLayerAfterActivation - expectedOutput ) @ inputVector.T\n",
    "print(f\"grad :  {grad}\")\n",
    "\n",
    "\n",
    "# Back-propagation\n",
    "LearningRateAlpha = 0.0001\n",
    "\n",
    "# Weights update First Layer will be updated\n",
    "FirstLayerWightsUpdated = FirstLayerWights - LearningRateAlpha * grad\n",
    "print(f\"FirstLayerWightsUpdated : {FirstLayerWightsUpdated}\")\n",
    "\n"
   ]
  }
 ],
 "metadata": {
  "kernelspec": {
   "display_name": "Python 3",
   "language": "python",
   "name": "python3"
  },
  "language_info": {
   "codemirror_mode": {
    "name": "ipython",
    "version": 3
   },
   "file_extension": ".py",
   "mimetype": "text/x-python",
   "name": "python",
   "nbconvert_exporter": "python",
   "pygments_lexer": "ipython3",
   "version": "3.10.6"
  },
  "orig_nbformat": 4
 },
 "nbformat": 4,
 "nbformat_minor": 2
}
